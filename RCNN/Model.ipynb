{
 "cells": [
  {
   "cell_type": "code",
   "execution_count": 1,
   "id": "daefc2a4-e7d1-427c-9767-f9473adb5b20",
   "metadata": {},
   "outputs": [],
   "source": [
    "import torch\n",
    "import numpy as np\n",
    "import torch.nn as nn\n",
    "import torch.nn.functional as F\n",
    "import torch.optim as op"
   ]
  },
  {
   "cell_type": "code",
   "execution_count": 2,
   "id": "cc564e0b-e43a-40f6-9f26-1bfba5500c90",
   "metadata": {},
   "outputs": [],
   "source": [
    "class resblk (nn.Module):\n",
    "    def __init__(self, ichannel, ochannel, stride = 1, dropout = 0.3, skip = True):\n",
    "        super().__init__()\n",
    "        self.dropout = nn.Dropout(dropout)\n",
    "        self.c1 = nn.Sequential(nn.Conv2d(ichannel, ochannel, 3, stride, 1),\n",
    "                                nn.BatchNorm2d(ochannel), nn.ReLU())\n",
    "        self.c2 = nn.Sequential(nn.Conv2d(ichannel, ochannel, 3, stride, 1),\n",
    "                                nn.BatchNorm2d(ochannel), nn.ReLU())\n",
    "        self.skipConnection = None\n",
    "\n",
    "        if skip:\n",
    "            if stride != 1 or ichannel != ochannel:\n",
    "                self.skipConnection = nn.conv2d(ichannel, ochannel, 1, 1)\n",
    "    def forward(self, x):\n",
    "        input = x\n",
    "\n",
    "        output = F.relu(self.c1(x))\n",
    "        output = self.c2(output)\n",
    "        \n",
    "        if self.skipConnection != None:\n",
    "            output += self.skipConnection(input)\n",
    "\n",
    "        output = F.relu(output)\n",
    "        output = self.dropout(output)\n",
    "        \n",
    "        return output\n"
   ]
  },
  {
   "cell_type": "code",
   "execution_count": 3,
   "id": "1ea751c5-f6f7-4497-b870-35be192ede92",
   "metadata": {},
   "outputs": [],
   "source": [
    "class CRNN1(nn.Module):\n",
    "    def __init__(self, max_chars: int):\n",
    "        super().__init__()\n",
    "        self.name = CRNN1\n",
    "        \n",
    "        self.dropout = nn.Dropout(0.3)\n",
    "        self.pool = nn.MaxPool2d(kernel_size = 3, stride = 2, padding = 1)\n",
    "        \n",
    "        self.c0 = nn.conv2d(3, 16, 5)\n",
    "        self.r1 = resblk(16, 16)\n",
    "        self.r2 = resblk(16, 16, skip = False)\n",
    "        self.r3 = resblk(16, 32, 2)\n",
    "        self.r4 = resblk(32, 32, skip = False)\n",
    "        self.r5 = resblk(32, 32)\n",
    "        self.r6 = resblk(32, 64, 2)\n",
    "        self.r7 = resblk(64, 64)\n",
    "        self.r8 = resblk(64, 64, skip = False)\n",
    "        self.r9 = resblk(64, 64, skip = False)\n",
    "\n",
    "        self.lstm0 = nn.LSTM(64, 128, bidirectional = True, num_layers = 1, batch_first = True)\n",
    "        #upper/lowercase letters, numbers, special characters(. - * : # % / ( ) = ), max length of output\n",
    "        self.fc0 = nn.Linear(128*2, max_chars + 1)\n",
    "    \n",
    "    def forward(self, x):\n",
    "        \n",
    "        x = F.relu(self.c0(x))\n",
    "        x = self.pool(x)\n",
    "        x = self.r1(x)\n",
    "        x = self.r2(x)\n",
    "        x = self.r3(x)\n",
    "        x = self.r4(x)\n",
    "        x = self.r5(x)\n",
    "        x = self.r6(x)\n",
    "        x = self.r7(x)\n",
    "        x = self.r8(x)\n",
    "        x = self.r9(x)\n",
    "        x = x.reshape(x.size(0), -1, x.size(1))\n",
    "\n",
    "        x, _ = self.lstm0(x)\n",
    "        x = self.dropout(x)\n",
    "\n",
    "        x = self.fc0(x)\n",
    "        \n",
    "        #x = F.log_softmax(x, 2) check if CTCLoss uses softmax internally\n",
    "        return x\n",
    "         "
   ]
  },
  {
   "cell_type": "code",
   "execution_count": null,
   "id": "663da796-9d2d-42bc-9f18-e42c8e32bc9f",
   "metadata": {},
   "outputs": [],
   "source": []
  }
 ],
 "metadata": {
  "kernelspec": {
   "display_name": "scannerTxtRead",
   "language": "python",
   "name": "scannertxtread"
  },
  "language_info": {
   "codemirror_mode": {
    "name": "ipython",
    "version": 3
   },
   "file_extension": ".py",
   "mimetype": "text/x-python",
   "name": "python",
   "nbconvert_exporter": "python",
   "pygments_lexer": "ipython3",
   "version": "3.11.9"
  }
 },
 "nbformat": 4,
 "nbformat_minor": 5
}
